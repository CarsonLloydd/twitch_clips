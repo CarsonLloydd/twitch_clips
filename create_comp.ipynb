{
 "cells": [
  {
   "cell_type": "code",
   "execution_count": 1,
   "metadata": {},
   "outputs": [],
   "source": [
    "from selenium import webdriver\n",
    "from selenium.webdriver.chrome.options import Options \n",
    "from bs4 import BeautifulSoup\n",
    "import pandas as pd\n",
    "import time\n",
    "import os\n",
    "from selenium.webdriver.common.keys import Keys\n",
    "from selenium.webdriver.common.action_chains import ActionChains"
   ]
  },
  {
   "cell_type": "code",
   "execution_count": 2,
   "metadata": {},
   "outputs": [],
   "source": [
    "options = Options() \n",
    "chrome_path = '/Users/user/Documents/chromedriver'"
   ]
  },
  {
   "cell_type": "code",
   "execution_count": 3,
   "metadata": {},
   "outputs": [],
   "source": [
    "driver = webdriver.Chrome(chrome_path, \n",
    "                              options=options)\n",
    "\n",
    "driver.set_window_size(1400,1000)"
   ]
  },
  {
   "cell_type": "code",
   "execution_count": 4,
   "metadata": {},
   "outputs": [],
   "source": [
    "driver.set_window_size(2400,1000)"
   ]
  },
  {
   "cell_type": "code",
   "execution_count": 5,
   "metadata": {},
   "outputs": [],
   "source": [
    "# Easily apply this script to other games/genres on twitch\n",
    "# Just change this link in the code below to the topic you want\n",
    "\n",
    "driver.get('https://www.twitch.tv/directory/game/Fall%20Guys/clips?range=24hr')"
   ]
  },
  {
   "cell_type": "code",
   "execution_count": 6,
   "metadata": {},
   "outputs": [],
   "source": [
    "page_source = driver.page_source\n",
    "soup = BeautifulSoup(page_source)"
   ]
  },
  {
   "cell_type": "code",
   "execution_count": 7,
   "metadata": {},
   "outputs": [],
   "source": [
    "# This code goes to twitch and collects the clips\n",
    "# You can change the amount of clips to collect by changing\n",
    "# The range of the for loop right here\n",
    "# currently set to top 25 clips\n",
    "# Also make sure to have a clips folder wherever you have this script\n",
    "\n",
    "a = 1\n",
    "vids = []\n",
    "for x in list(range(25)):\n",
    "    try:\n",
    "        if x < 16:\n",
    "            driver.get('https://www.twitch.tv/directory/game/Fall%20Guys/clips?range=24hr')\n",
    "            time.sleep(2)\n",
    "    #         driver.find_element_by_css_selector('[class=\"tw-c-text-base tw-font-size-2 tw-strong\"]').click()\n",
    "    #         driver.find_element_by_css_selector('body').send_keys(Keys.PAGE_DOWN)\n",
    "            time.sleep(2)\n",
    "            driver.find_element_by_css_selector(\"[data-a-target=clips-card-\" + str(x) +  \"]\").click()\n",
    "            time.sleep(5)\n",
    "            page_source = driver.page_source\n",
    "            soup = BeautifulSoup(page_source)\n",
    "            vid_name = soup.find('video')['src'].split('tv/')[1].replace('%7C','_')\n",
    "    #         vid_name = vid_name + str(a)\n",
    "            time.sleep(2)\n",
    "        #     driver.get(soup.find('video')['src'])\n",
    "            driver.find_element_by_css_selector('[aria-label=Share]').click()\n",
    "            driver.find_element_by_css_selector('[aria-label=\"Button to copy clip link to clipboard\"]').click()\n",
    "            time.sleep(2)\n",
    "            driver.get('https://clipr.xyz/')\n",
    "            time.sleep(5)\n",
    "            driver.find_element_by_css_selector('input').send_keys(Keys.CONTROL, 'v')\n",
    "            time.sleep(2)\n",
    "            driver.find_element_by_css_selector('[type=submit]').click()\n",
    "            time.sleep(2)\n",
    "            driver.find_elements_by_css_selector('[class=\"btn btn-md btn-primary clipr-button\"]')[1].click()\n",
    "            time.sleep(10)\n",
    "            os.rename(\"/Users/User/Downloads/\" + vid_name, \"/Users/User/Documents/fall_guys/clips/\" + vid_name)\n",
    "            vids.append(vid_name)\n",
    "            time.sleep(2)\n",
    "            a = a + 1\n",
    "        else:\n",
    "            driver.get('https://www.twitch.tv/directory/game/Fall%20Guys/clips?range=24hr')\n",
    "            time.sleep(2)\n",
    "    #         driver.find_element_by_css_selector('[class=\"tw-c-text-base tw-font-size-2 tw-strong\"]').click()\n",
    "            driver.find_element_by_css_selector('[class=\"tw-bold tw-font-size-2 tw-line-height-heading tw-title\"]').click()\n",
    "            driver.find_element_by_css_selector('body').send_keys(Keys.PAGE_DOWN)\n",
    "            time.sleep(2)\n",
    "            driver.find_element_by_css_selector(\"[data-a-target=clips-card-\" + str(x) +  \"]\").click()\n",
    "            time.sleep(5)\n",
    "            page_source = driver.page_source\n",
    "            soup = BeautifulSoup(page_source)\n",
    "            vid_name = soup.find('video')['src'].split('tv/')[1].replace('%7C','_')\n",
    "    #         vid_name = vid_name + str(a)\n",
    "            time.sleep(2)\n",
    "        #     driver.get(soup.find('video')['src'])\n",
    "            driver.find_element_by_css_selector('[aria-label=Share]').click()\n",
    "            driver.find_element_by_css_selector('[aria-label=\"Button to copy clip link to clipboard\"]').click()\n",
    "            time.sleep(2)\n",
    "            driver.get('https://clipr.xyz/')\n",
    "            time.sleep(5)\n",
    "            driver.find_element_by_css_selector('input').send_keys(Keys.CONTROL, 'v')\n",
    "            time.sleep(2)\n",
    "            driver.find_element_by_css_selector('[type=submit]').click()\n",
    "            time.sleep(2)\n",
    "            driver.find_elements_by_css_selector('[class=\"btn btn-md btn-primary clipr-button\"]')[1].click()\n",
    "            time.sleep(10)\n",
    "            os.rename(\"/Users/User/Downloads/\" + vid_name, \"/Users/User/Documents/fall_guys/clips/\" + vid_name)\n",
    "            vids.append(vid_name)\n",
    "            time.sleep(2)\n",
    "            a = a + 1\n",
    "    except:\n",
    "        if x < 16:\n",
    "            driver.get('https://www.twitch.tv/directory/game/Fall%20Guys/clips?range=24hr')\n",
    "            time.sleep(2)\n",
    "    #         driver.find_element_by_css_selector('[class=\"tw-c-text-base tw-font-size-2 tw-strong\"]').click()\n",
    "    #         driver.find_element_by_css_selector('body').send_keys(Keys.PAGE_DOWN)\n",
    "            time.sleep(2)\n",
    "            driver.find_element_by_css_selector(\"[data-a-target=clips-card-\" + str(x) +  \"]\").click()\n",
    "            time.sleep(5)\n",
    "            page_source = driver.page_source\n",
    "            soup = BeautifulSoup(page_source)\n",
    "            vid_name = soup.find('video')['src'].split('tv/')[1].replace('%7C','_')\n",
    "    #         vid_name = vid_name + str(a)\n",
    "            time.sleep(2)\n",
    "        #     driver.get(soup.find('video')['src'])\n",
    "            driver.find_element_by_css_selector('[aria-label=Share]').click()\n",
    "            driver.find_element_by_css_selector('[aria-label=\"Button to copy clip link to clipboard\"]').click()\n",
    "            time.sleep(2)\n",
    "            driver.get('https://clipr.xyz/')\n",
    "            time.sleep(5)\n",
    "            driver.find_element_by_css_selector('input').send_keys(Keys.CONTROL, 'v')\n",
    "            time.sleep(2)\n",
    "            driver.find_element_by_css_selector('[type=submit]').click()\n",
    "            time.sleep(2)\n",
    "            driver.find_elements_by_css_selector('[class=\"btn btn-md btn-primary clipr-button\"]')[1].click()\n",
    "            time.sleep(10)\n",
    "            os.rename(\"/Users/User/Downloads/\" + vid_name, \"/Users/User/Documents/fall_guys/clips/\" + vid_name)\n",
    "            vids.append(vid_name)\n",
    "            time.sleep(2)\n",
    "            a = a + 1\n",
    "        else:\n",
    "            driver.get('https://www.twitch.tv/directory/game/Fall%20Guys/clips?range=24hr')\n",
    "            time.sleep(2)\n",
    "    #         driver.find_element_by_css_selector('[class=\"tw-c-text-base tw-font-size-2 tw-strong\"]').click()\n",
    "            driver.find_element_by_css_selector('[class=\"tw-bold tw-font-size-2 tw-line-height-heading tw-title\"]').click()\n",
    "            driver.find_element_by_css_selector('body').send_keys(Keys.PAGE_DOWN)\n",
    "            time.sleep(2)\n",
    "            driver.find_element_by_css_selector(\"[data-a-target=clips-card-\" + str(x) +  \"]\").click()\n",
    "            time.sleep(5)\n",
    "            page_source = driver.page_source\n",
    "            soup = BeautifulSoup(page_source)\n",
    "            vid_name = soup.find('video')['src'].split('tv/')[1].replace('%7C','_')\n",
    "    #         vid_name = vid_name + str(a)\n",
    "            time.sleep(2)\n",
    "        #     driver.get(soup.find('video')['src'])\n",
    "            driver.find_element_by_css_selector('[aria-label=Share]').click()\n",
    "            driver.find_element_by_css_selector('[aria-label=\"Button to copy clip link to clipboard\"]').click()\n",
    "            time.sleep(2)\n",
    "            driver.get('https://clipr.xyz/')\n",
    "            time.sleep(5)\n",
    "            driver.find_element_by_css_selector('input').send_keys(Keys.CONTROL, 'v')\n",
    "            time.sleep(2)\n",
    "            driver.find_element_by_css_selector('[type=submit]').click()\n",
    "            time.sleep(2)\n",
    "            driver.find_elements_by_css_selector('[class=\"btn btn-md btn-primary clipr-button\"]')[1].click()\n",
    "            time.sleep(10)\n",
    "            os.rename(\"/Users/User/Downloads/\" + vid_name, \"/Users/User/Documents/fall_guys/clips/\" + vid_name)\n",
    "            vids.append(vid_name)\n",
    "            time.sleep(2)\n",
    "            a = a + 1"
   ]
  },
  {
   "cell_type": "code",
   "execution_count": 8,
   "metadata": {},
   "outputs": [],
   "source": [
    "driver.close()"
   ]
  },
  {
   "cell_type": "code",
   "execution_count": null,
   "metadata": {},
   "outputs": [],
   "source": []
  },
  {
   "cell_type": "code",
   "execution_count": 11,
   "metadata": {},
   "outputs": [],
   "source": [
    "import glob"
   ]
  },
  {
   "cell_type": "code",
   "execution_count": 12,
   "metadata": {},
   "outputs": [],
   "source": [
    "clip_names = glob.glob(\"clips/*.mp4\")"
   ]
  },
  {
   "cell_type": "code",
   "execution_count": null,
   "metadata": {},
   "outputs": [],
   "source": []
  },
  {
   "cell_type": "code",
   "execution_count": null,
   "metadata": {},
   "outputs": [],
   "source": []
  },
  {
   "cell_type": "code",
   "execution_count": 13,
   "metadata": {},
   "outputs": [],
   "source": [
    "import os"
   ]
  },
  {
   "cell_type": "code",
   "execution_count": 14,
   "metadata": {},
   "outputs": [],
   "source": [
    "def concatenate():\n",
    "    stringa = \"ffmpeg -i \\\"concat:\"\n",
    "    elenco_video = glob.glob(\"clips/*.mp4\")\n",
    "    global elenco_file_temp\n",
    "    elenco_file_temp = []\n",
    "    for f in elenco_video:\n",
    "        file = \"temp\" + str(elenco_video.index(f) + 1) + \".ts\"\n",
    "        os.system(\"ffmpeg -i \" + f + \" -c copy -bsf:v h264_mp4toannexb -f mpegts \" + file)\n",
    "        elenco_file_temp.append(file)\n",
    "    print(elenco_file_temp)\n",
    "    for f in elenco_file_temp:\n",
    "        stringa += f\n",
    "        if elenco_file_temp.index(f) != len(elenco_file_temp)-1:\n",
    "            stringa += \"|\"\n",
    "        else:\n",
    "            stringa += \"\\\" -c copy  -bsf:a aac_adtstoasc output.mp4\"\n",
    "    print(stringa)\n",
    "    os.system(stringa)"
   ]
  },
  {
   "cell_type": "code",
   "execution_count": 15,
   "metadata": {},
   "outputs": [
    {
     "name": "stdout",
     "output_type": "stream",
     "text": [
      "['temp1.ts', 'temp2.ts']\n",
      "ffmpeg -i \"concat:temp1.ts|temp2.ts\" -c copy  -bsf:a aac_adtstoasc output.mp4\n"
     ]
    }
   ],
   "source": [
    "# This function combines all the clips you collected into one video\n",
    "\n",
    "concatenate()"
   ]
  },
  {
   "cell_type": "code",
   "execution_count": 16,
   "metadata": {},
   "outputs": [],
   "source": [
    "time.sleep(30)"
   ]
  },
  {
   "cell_type": "code",
   "execution_count": 16,
   "metadata": {},
   "outputs": [],
   "source": [
    "for tvid in elenco_file_temp:\n",
    "    os.remove(tvid)"
   ]
  },
  {
   "cell_type": "code",
   "execution_count": null,
   "metadata": {},
   "outputs": [],
   "source": []
  },
  {
   "cell_type": "code",
   "execution_count": 17,
   "metadata": {},
   "outputs": [],
   "source": [
    "for tclip in clip_names:\n",
    "    os.remove(tclip)"
   ]
  },
  {
   "cell_type": "code",
   "execution_count": null,
   "metadata": {},
   "outputs": [],
   "source": []
  },
  {
   "cell_type": "code",
   "execution_count": 19,
   "metadata": {},
   "outputs": [],
   "source": [
    "time.sleep(10)"
   ]
  },
  {
   "cell_type": "code",
   "execution_count": 20,
   "metadata": {},
   "outputs": [
    {
     "name": "stdout",
     "output_type": "stream",
     "text": [
      "Client_secret.json-youtube-v3-(['https://www.googleapis.com/auth/youtube.upload'],)\n",
      "['https://www.googleapis.com/auth/youtube.upload']\n",
      "youtube service created successfully\n"
     ]
    }
   ],
   "source": [
    "# This code takes the final output file of all of the combined clips and\n",
    "# uploads it to youtube, just make sure you have the necessary permissions\n",
    "# allowed on your youtube channel so you can upload videos thorugh the API\n",
    "\n",
    "import datetime\n",
    "from Google import Create_Service\n",
    "from googleapiclient.http import MediaFileUpload\n",
    "\n",
    "CLIENT_SECRET_FILE = 'Client_secret.json'\n",
    "API_NAME = 'youtube'\n",
    "API_VERSION = 'v3'\n",
    "SCOPES = ['https://www.googleapis.com/auth/youtube.upload']\n",
    "\n",
    "service = Create_Service(CLIENT_SECRET_FILE, API_NAME, API_VERSION, SCOPES)\n",
    "\n",
    "# upload_date_time = datetime.datetime(2020, 12, 25, 12, 30, 0).isoformat() + '.000Z'\n",
    "\n",
    "title_no = (datetime.datetime.today() - datetime.datetime(2020, 8, 28, 12, 30, 0)).days\n",
    "vid_title = 'Fall Guys Funny Moments #' + str(title_no)\n",
    "\n",
    "request_body = {\n",
    "    'snippet': {\n",
    "        'categoryI': 20,\n",
    "        'title': vid_title,\n",
    "        'description': 'Fall Guys Funny Clips',\n",
    "        'tags': ['Gaming', 'Fall Guys', 'Funny Clips']\n",
    "    },\n",
    "    'status': {\n",
    "#         'privacyStatus': 'private',\n",
    "#         'publishAt': upload_date_time,\n",
    "        'selfDeclaredMadeForKids': False, \n",
    "    },\n",
    "    'notifySubscribers': False\n",
    "}\n",
    "\n",
    "mediaFile = MediaFileUpload('output.MP4')\n",
    "\n",
    "response_upload = service.videos().insert(\n",
    "    part='snippet,status',\n",
    "    body=request_body,\n",
    "    media_body=mediaFile\n",
    ").execute()\n",
    "\n",
    "\n",
    "# service.thumbnails().set(\n",
    "#     videoId=response_upload.get('id'),\n",
    "#     media_body=MediaFileUpload('thumbnail.png')\n",
    "# ).execute()\n"
   ]
  },
  {
   "cell_type": "code",
   "execution_count": null,
   "metadata": {},
   "outputs": [],
   "source": []
  },
  {
   "cell_type": "code",
   "execution_count": null,
   "metadata": {},
   "outputs": [],
   "source": []
  },
  {
   "cell_type": "code",
   "execution_count": null,
   "metadata": {},
   "outputs": [],
   "source": []
  },
  {
   "cell_type": "code",
   "execution_count": null,
   "metadata": {},
   "outputs": [],
   "source": []
  }
 ],
 "metadata": {
  "kernelspec": {
   "display_name": "Python 3",
   "language": "python",
   "name": "python3"
  },
  "language_info": {
   "codemirror_mode": {
    "name": "ipython",
    "version": 3
   },
   "file_extension": ".py",
   "mimetype": "text/x-python",
   "name": "python",
   "nbconvert_exporter": "python",
   "pygments_lexer": "ipython3",
   "version": "3.7.4"
  }
 },
 "nbformat": 4,
 "nbformat_minor": 4
}
